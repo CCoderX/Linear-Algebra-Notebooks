{
 "cells": [
  {
   "cell_type": "code",
   "execution_count": 1,
   "metadata": {},
   "outputs": [],
   "source": [
    "#2*2 Matrix code"
   ]
  },
  {
   "cell_type": "code",
   "execution_count": 1,
   "metadata": {},
   "outputs": [],
   "source": [
    "import numpy as np"
   ]
  },
  {
   "cell_type": "code",
   "execution_count": 2,
   "metadata": {},
   "outputs": [],
   "source": [
    "def det(arr):\n",
    "    if arr.shape == (2,2):\n",
    "        return arr[0][0]*arr[1][1] - arr[1][0] * arr[0][1]"
   ]
  },
  {
   "cell_type": "code",
   "execution_count": 3,
   "metadata": {},
   "outputs": [],
   "source": [
    "def change(arr):\n",
    "    temp = arr[0][0]\n",
    "    arr[0][0] = arr[1][1]\n",
    "    arr[1][1] = temp\n",
    "    temp = arr[1][0]*-1\n",
    "    arr[1][0] = arr[0][1]*-1\n",
    "    arr[0][1] = temp\n",
    "#     print(mat)"
   ]
  },
  {
   "cell_type": "code",
   "execution_count": 7,
   "metadata": {},
   "outputs": [],
   "source": [
    "def inv(mat):\n",
    "    d = det(mat)\n",
    "#     print(d)\n",
    "    change(mat)\n",
    "#     print(mat)\n",
    "    mat = mat / d\n",
    "    print(mat)"
   ]
  },
  {
   "cell_type": "code",
   "execution_count": 8,
   "metadata": {},
   "outputs": [
    {
     "name": "stdout",
     "output_type": "stream",
     "text": [
      "[[1 2]\n",
      " [3 4]]\n",
      "[[-2.   1.5]\n",
      " [ 1.  -0.5]]\n"
     ]
    }
   ],
   "source": [
    "mat = np.array([[1,2],[3,4]])\n",
    "print(mat)\n",
    "inv(mat)"
   ]
  },
  {
   "cell_type": "code",
   "execution_count": 8,
   "metadata": {},
   "outputs": [],
   "source": [
    "#3*3 Matrix code"
   ]
  },
  {
   "cell_type": "code",
   "execution_count": 9,
   "metadata": {},
   "outputs": [],
   "source": [
    "def det3D(mat):\n",
    "    if mat.shape == (3,3):\n",
    "        a1 = mat[0][0]*(mat[1][1]*mat[2][2] - mat[1][2]*mat[2][1])\n",
    "        a2 = mat[0][1]*(mat[1][0]*mat[2][2] - mat[2][0]*mat[1][2])\n",
    "        a3 = mat[0][2]*(mat[1][0]*mat[2][1] - mat[2][0]*mat[1][1])\n",
    "        det = a1+a3-a2\n",
    "        return det"
   ]
  },
  {
   "cell_type": "code",
   "execution_count": 10,
   "metadata": {},
   "outputs": [],
   "source": [
    "def isInv(mat):\n",
    "    return det3D(mat)!= 0"
   ]
  },
  {
   "cell_type": "code",
   "execution_count": 11,
   "metadata": {},
   "outputs": [],
   "source": [
    "def trans(mat):\n",
    "    return mat.T"
   ]
  },
  {
   "cell_type": "code",
   "execution_count": 12,
   "metadata": {},
   "outputs": [],
   "source": [
    "def minors(mat):\n",
    "    a00 = mat[1][1]*mat[2][2] - mat[1][2]*mat[2][1]\n",
    "    a01 = mat[1][0]*mat[2][2] - mat[2][0]*mat[1][2]\n",
    "    a02 = mat[1][0]*mat[2][1] - mat[2][0]*mat[1][1]\n",
    "    \n",
    "    a10 = mat[0][1]*mat[2][2] - mat[0][2]*mat[2][1]\n",
    "    a11 = mat[0][0]*mat[2][2] - mat[0][2]*mat[2][0]\n",
    "    a12 = mat[0][0]*mat[2][1] - mat[2][0]*mat[1][1]\n",
    "    \n",
    "    a20 = mat[0][1]*mat[1][2] - mat[1][1]*mat[1][2]\n",
    "    a21 = mat[0][0]*mat[1][2] - mat[1][0]*mat[0][2]\n",
    "    a22 = mat[0][0]*mat[1][1] - mat[1][0]*mat[0][1]\n",
    "    result = np.array([[a00,a01,a02],[a10,a11,a12],[a20,a21,a22]])\n",
    "    return result"
   ]
  },
  {
   "cell_type": "code",
   "execution_count": 13,
   "metadata": {},
   "outputs": [],
   "source": [
    "def cofactors(mat):\n",
    "    mat[0][1] = -1*mat[0][1]\n",
    "    mat[1][0] = -1*mat[1][0]\n",
    "    mat[1][2] = -1*mat[1][2]\n",
    "    mat[2][1] = -1*mat[2][1]"
   ]
  },
  {
   "cell_type": "code",
   "execution_count": 14,
   "metadata": {},
   "outputs": [
    {
     "name": "stdout",
     "output_type": "stream",
     "text": [
      "[[ 1  1  2]\n",
      " [ 2  3  1]\n",
      " [ 3  4 -5]]\n",
      "[[ 2.375 -1.625  0.125]\n",
      " [-1.625  1.375 -0.625]\n",
      " [ 0.25  -0.375 -0.125]]\n"
     ]
    }
   ],
   "source": [
    "mat = np.array([[1,1,2],[2,3,1],[3,4,-5]])\n",
    "print(mat)\n",
    "if isInv(mat):\n",
    "    det = det3D(mat)\n",
    "    m = minors(mat)\n",
    "    cofactors(m)\n",
    "    inv = m / det\n",
    "    print(inv)"
   ]
  }
 ],
 "metadata": {
  "kernelspec": {
   "display_name": "Python 3",
   "language": "python",
   "name": "python3"
  },
  "language_info": {
   "codemirror_mode": {
    "name": "ipython",
    "version": 3
   },
   "file_extension": ".py",
   "mimetype": "text/x-python",
   "name": "python",
   "nbconvert_exporter": "python",
   "pygments_lexer": "ipython3",
   "version": "3.8.5"
  }
 },
 "nbformat": 4,
 "nbformat_minor": 4
}
